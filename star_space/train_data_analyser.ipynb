{
 "cells": [
  {
   "cell_type": "code",
   "execution_count": 3,
   "outputs": [],
   "source": [
    "import pandas as pd\n",
    "import ast\n",
    "from IPython.core.display import display"
   ],
   "metadata": {
    "collapsed": false,
    "pycharm": {
     "name": "#%%\n"
    }
   }
  },
  {
   "cell_type": "code",
   "execution_count": 278,
   "metadata": {
    "collapsed": true,
    "pycharm": {
     "name": "#%%\n"
    }
   },
   "outputs": [],
   "source": [
    "w_filenameTSV = '../data/tweets-dump.tsv'\n",
    "df = pd.read_csv(w_filenameTSV,\n",
    "                 sep='\\t',\n",
    "                 # lineterminator='\\n',\n",
    "                 header=None,\n",
    "                 usecols=[0, 1, 4],\n",
    "                 dtype={0: int, 1: int, 4: str},\n",
    "                 names=[\"user_id\", \"tweet_id\", \"content\"])"
   ]
  },
  {
   "cell_type": "code",
   "execution_count": 279,
   "outputs": [
    {
     "data": {
      "text/plain": "0           1356395045516050433\n1           1367231810866982917\n2           1350622430490984450\n3                      59600989\n4           1354850623875805184\n                   ...         \n17248524     847497731908157442\n17248525             3889613177\n17248526               68893508\n17248527    1115698118333321216\n17248528    1306156425253593089\nName: user_id, Length: 17248529, dtype: Int64"
     },
     "execution_count": 279,
     "metadata": {},
     "output_type": "execute_result"
    }
   ],
   "source": [
    "df['user_id'].astype('Int64')"
   ],
   "metadata": {
    "collapsed": false,
    "pycharm": {
     "name": "#%%\n"
    }
   }
  },
  {
   "cell_type": "code",
   "execution_count": 280,
   "outputs": [
    {
     "data": {
      "text/plain": "0           1366857632372256770\n1           1366857632372256770\n2           1366857632372256770\n3           1366857632372256770\n4           1366857632372256770\n                   ...         \n17248524    1336826802858299393\n17248525    1336826802858299393\n17248526    1336826802858299393\n17248527    1336826802858299393\n17248528    1336826802858299393\nName: tweet_id, Length: 17248529, dtype: Int64"
     },
     "execution_count": 280,
     "metadata": {},
     "output_type": "execute_result"
    }
   ],
   "source": [
    "df['tweet_id'].astype('Int64')"
   ],
   "metadata": {
    "collapsed": false,
    "pycharm": {
     "name": "#%%\n"
    }
   }
  },
  {
   "cell_type": "code",
   "execution_count": 281,
   "outputs": [
    {
     "data": {
      "text/plain": "0           @WootiezTV Very much so & its leader shall be ...\n1           @WootiezTV Very much so & its leader shall be ...\n2           @WootiezTV Very much so & its leader shall be ...\n3           @WootiezTV Very much so & its leader shall be ...\n4           @WootiezTV Very much so & its leader shall be ...\n                                  ...                        \n17248524    #Cyberpunk 2077 is now available globally on @...\n17248525    #Cyberpunk 2077 is now available globally on @...\n17248526    #Cyberpunk 2077 is now available globally on @...\n17248527    #Cyberpunk 2077 is now available globally on @...\n17248528    #Cyberpunk 2077 is now available globally on @...\nName: content, Length: 17248529, dtype: object"
     },
     "execution_count": 281,
     "metadata": {},
     "output_type": "execute_result"
    }
   ],
   "source": [
    "df['content'].astype('str')"
   ],
   "metadata": {
    "collapsed": false,
    "pycharm": {
     "name": "#%%\n"
    }
   }
  },
  {
   "cell_type": "code",
   "execution_count": null,
   "outputs": [],
   "source": [],
   "metadata": {
    "collapsed": false,
    "pycharm": {
     "name": "#%%\n"
    }
   }
  }
 ],
 "metadata": {
  "kernelspec": {
   "display_name": "Python 3",
   "language": "python",
   "name": "python3"
  },
  "language_info": {
   "codemirror_mode": {
    "name": "ipython",
    "version": 2
   },
   "file_extension": ".py",
   "mimetype": "text/x-python",
   "name": "python",
   "nbconvert_exporter": "python",
   "pygments_lexer": "ipython2",
   "version": "2.7.6"
  }
 },
 "nbformat": 4,
 "nbformat_minor": 0
}