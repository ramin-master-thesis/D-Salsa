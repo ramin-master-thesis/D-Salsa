{
 "cells": [
  {
   "cell_type": "code",
   "execution_count": 9,
   "outputs": [],
   "source": [
    "import pandas as pd\n",
    "import ast\n",
    "from IPython.core.display import display"
   ],
   "metadata": {
    "collapsed": false,
    "pycharm": {
     "name": "#%%\n"
    }
   }
  },
  {
   "cell_type": "code",
   "execution_count": 269,
   "metadata": {
    "collapsed": true,
    "pycharm": {
     "name": "#%%\n"
    }
   },
   "outputs": [],
   "source": [
    "w_filenameTSV = '../data/StarSpace_data/tweets-9.tsv'\n",
    "df = pd.read_csv(w_filenameTSV,\n",
    "                       sep='\\t',\n",
    "                       # lineterminator= '\\n',\n",
    "                       header=None,\n",
    "                       usecols=[0, 1, 4],\n",
    "                       dtype={0:int, 1:int, 4:str},\n",
    "                       names=[\"user_id\", \"tweet_id\", \"content\"])\n",
    "\n",
    "\n"
   ]
  },
  {
   "cell_type": "code",
   "execution_count": 270,
   "outputs": [
    {
     "data": {
      "text/plain": "0                   2382230496\n1          1363225362788941829\n2                    501511247\n3                   2515425313\n4                   3146794919\n                  ...         \n1658137              309347428\n1658138    1085675163449024517\n1658139               46008977\n1658140    1085675163449024517\n1658141                5404442\nName: user_id, Length: 1658142, dtype: Int64"
     },
     "execution_count": 270,
     "metadata": {},
     "output_type": "execute_result"
    }
   ],
   "source": [
    "df['user_id'].astype('Int64')"
   ],
   "metadata": {
    "collapsed": false,
    "pycharm": {
     "name": "#%%\n"
    }
   }
  },
  {
   "cell_type": "code",
   "execution_count": 271,
   "outputs": [
    {
     "data": {
      "text/plain": "0          1364897764556099585\n1          1364897764556099585\n2          1364897764556099585\n3          1364897764556099585\n4          1364897764556099585\n                  ...         \n1658137    1366072859869741058\n1658138    1365361778150895616\n1658139    1365361778150895616\n1658140    1366048519392493571\n1658141    1366048519392493571\nName: tweet_id, Length: 1658142, dtype: Int64"
     },
     "execution_count": 271,
     "metadata": {},
     "output_type": "execute_result"
    }
   ],
   "source": [
    "df['tweet_id'].astype('Int64')"
   ],
   "metadata": {
    "collapsed": false,
    "pycharm": {
     "name": "#%%\n"
    }
   }
  },
  {
   "cell_type": "code",
   "execution_count": 272,
   "outputs": [
    {
     "data": {
      "text/plain": "0                                              @GJGunit Both\n1                                              @GJGunit Both\n2                                              @GJGunit Both\n3                                              @GJGunit Both\n4                                              @GJGunit Both\n                                 ...                        \n1658137    First position in the FACE category goes to......\n1658138    So my not-too-secret life is out now. https://...\n1658139    So my not-too-secret life is out now. https://...\n1658140    Venture is about curiosity and discovery. As t...\n1658141    Venture is about curiosity and discovery. As t...\nName: content, Length: 1658142, dtype: object"
     },
     "execution_count": 272,
     "metadata": {},
     "output_type": "execute_result"
    }
   ],
   "source": [
    "df['content'].astype('str')\n"
   ],
   "metadata": {
    "collapsed": false,
    "pycharm": {
     "name": "#%%\n"
    }
   }
  },
  {
   "cell_type": "code",
   "execution_count": null,
   "outputs": [],
   "source": [],
   "metadata": {
    "collapsed": false,
    "pycharm": {
     "name": "#%%\n"
    }
   }
  }
 ],
 "metadata": {
  "kernelspec": {
   "display_name": "Python 3",
   "language": "python",
   "name": "python3"
  },
  "language_info": {
   "codemirror_mode": {
    "name": "ipython",
    "version": 2
   },
   "file_extension": ".py",
   "mimetype": "text/x-python",
   "name": "python",
   "nbconvert_exporter": "python",
   "pygments_lexer": "ipython2",
   "version": "2.7.6"
  }
 },
 "nbformat": 4,
 "nbformat_minor": 0
}