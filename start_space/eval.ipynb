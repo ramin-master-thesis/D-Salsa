{
 "cells": [
  {
   "cell_type": "code",
   "execution_count": 13,
   "outputs": [],
   "source": [
    "# Import modules\n",
    "import starwrap as sw\n",
    "from matplotlib.ticker import MaxNLocator\n",
    "from numpy.testing import assert_array_almost_equal\n",
    "from start_space import current_directory"
   ],
   "metadata": {
    "collapsed": false,
    "pycharm": {
     "name": "#%%\n"
    }
   }
  },
  {
   "cell_type": "code",
   "execution_count": 14,
   "metadata": {
    "collapsed": true
   },
   "outputs": [],
   "source": [
    "# Import model\n",
    "arg = sw.args()\n",
    "arg.trainMode = 2\n",
    "arg.thread = 20\n",
    "arg.normalizeText = True\n",
    "arg.verbose = True\n",
    "\n",
    "sp = sw.starSpace(arg)\n",
    "sp.initFromTsv(f'{current_directory}/../data/StarSpace_data/models/model.tsv')"
   ]
  },
  {
   "cell_type": "code",
   "execution_count": 15,
   "outputs": [
    {
     "name": "stdout",
     "output_type": "stream",
     "text": [
      "[[ 0.9461175  -0.7171382   0.10628412 ...  0.09202605  2.10498\n",
      "   1.9937679 ]\n",
      " [-0.00270765  0.06931597  0.08428953 ...  0.03649301 -0.00755402\n",
      "  -0.03489939]\n",
      " [-1.0565373   1.1905173   0.4086509  ... -0.75042725 -0.43914074\n",
      "   0.7015984 ]\n",
      " ...\n",
      " [-0.55237335  0.47533357 -0.9727962  ...  0.3228006   1.4668758\n",
      "   0.3559966 ]\n",
      " [-0.07561512  1.3267888  -0.20674618 ... -0.13514963  0.7340973\n",
      "  -0.22668739]\n",
      " [-0.95145327  0.6943088   0.3425907  ...  0.24914469 -0.7305072\n",
      "   0.41398343]]\n"
     ]
    }
   ],
   "source": [
    "# Run PCA on Model and data\n",
    "import numpy as np\n",
    "from sklearn.preprocessing import StandardScaler\n",
    "from sklearn.decomposition import PCA\n",
    "\n",
    "import matplotlib.pyplot as plt\n",
    "\n",
    "with open(f'{current_directory}/../data/StarSpace_data/twitter_train130k.txt', 'r', encoding='utf-8') as items:\n",
    "    sentences = [x.split('\\t')[0] for x in items]\n",
    "\n",
    "X = np.array([np.array(sp.getDocVector(x, ' '))[0] for x in sentences])\n",
    "X_std = StandardScaler().fit_transform(X)\n",
    "\n",
    "\n",
    "num_components = 160\n",
    "pca = PCA(n_components=num_components)\n",
    "X_train_pca = pca.fit_transform(X_std)\n",
    "proj = pca.inverse_transform(X_train_pca)\n",
    "print(proj)\n",
    "# plt.bar(range(num_components), pca.explained_variance_ratio_ * 100)\n",
    "# plt.xlabel(\"Principal Components\")\n",
    "# plt.ylabel(\"Percentage of explained variance\")\n",
    "# plt.show()"
   ],
   "metadata": {
    "collapsed": false,
    "pycharm": {
     "name": "#%%\n"
    }
   }
  },
  {
   "cell_type": "code",
   "execution_count": 20,
   "outputs": [
    {
     "data": {
      "text/plain": "array([[ 0.03945694, -0.00385705,  0.17168504, -0.05764049],\n       [-0.09938709, -0.03184601,  0.02278215,  0.00979866],\n       [-0.10050216,  0.05651736, -0.03669673,  0.00242504],\n       ...,\n       [ 0.03195885, -0.04132186,  0.02317739,  0.00917384],\n       [ 0.03025906, -0.03600888,  0.03928636, -0.06945444],\n       [-0.03323095,  0.02422033, -0.01305462, -0.07390465]])"
     },
     "execution_count": 20,
     "metadata": {},
     "output_type": "execute_result"
    }
   ],
   "source": [
    "X_std = StandardScaler().fit_transform(X)\n",
    "cov_mat = np.cov(X.T)\n",
    "# Compute the eigen values and vectors using numpy\n",
    "eig_vals, eig_vecs = np.linalg.eig(cov_mat)\n",
    "\n",
    "# Make a list of (eigenvalue, eigenvector) tuples\n",
    "eig_pairs = [(np.abs(eig_vals[i]), eig_vecs[:,i]) for i in range(len(eig_vals))]\n",
    "\n",
    "# Sort the (eigenvalue, eigenvector) tuples from high to low\n",
    "eig_pairs.sort(key=lambda x: x[0], reverse=True)\n",
    "\n",
    "# Hardcode it as log(number of partitions)\n",
    "num_vec_to_keep = 4\n",
    "\n",
    "# Compute the projection matrix based on the top eigen vectors\n",
    "num_features = X.shape[1]\n",
    "proj_mat = eig_pairs[0][1].reshape(num_features,1)\n",
    "for eig_vec_idx in range(1, num_vec_to_keep):\n",
    "  proj_mat = np.hstack((proj_mat, eig_pairs[eig_vec_idx][1].reshape(num_features,1)))\n",
    "\n",
    "proj_mat"
   ],
   "metadata": {
    "collapsed": false,
    "pycharm": {
     "name": "#%%\n"
    }
   }
  },
  {
   "cell_type": "code",
   "execution_count": 21,
   "outputs": [],
   "source": [
    "np.save(f'{current_directory}/../data/StarSpace_data/projection_matrix', proj_mat)"
   ],
   "metadata": {
    "collapsed": false,
    "pycharm": {
     "name": "#%%\n"
    }
   }
  },
  {
   "cell_type": "code",
   "execution_count": 16,
   "outputs": [
    {
     "data": {
      "text/plain": "<Figure size 432x288 with 1 Axes>",
      "image/png": "[encoded data removed]"
     },
     "metadata": {
      "needs_background": "light"
     },
     "output_type": "display_data"
    }
   ],
   "source": [
    "partitions = []\n",
    "for y in X_train_pca:\n",
    "    bits = y > 0\n",
    "    partition = 0\n",
    "    if bits[0]:\n",
    "        partition = 1\n",
    "    partitions.append(partition)\n",
    "\n",
    "labels, counts = np.unique(partitions, return_counts=True)\n",
    "plt.bar(labels, counts, align='center')\n",
    "ax = plt.gca()\n",
    "ax.set_xticks(labels)\n",
    "ax.yaxis.set_major_locator(MaxNLocator(integer=True))\n",
    "plt.show()"
   ],
   "metadata": {
    "collapsed": false,
    "pycharm": {
     "name": "#%%\n"
    }
   }
  }
 ],
 "metadata": {
  "kernelspec": {
   "display_name": "Python 3",
   "language": "python",
   "name": "python3"
  },
  "language_info": {
   "codemirror_mode": {
    "name": "ipython",
    "version": 2
   },
   "file_extension": ".py",
   "mimetype": "text/x-python",
   "name": "python",
   "nbconvert_exporter": "python",
   "pygments_lexer": "ipython2",
   "version": "2.7.6"
  }
 },
 "nbformat": 4,
 "nbformat_minor": 0
}